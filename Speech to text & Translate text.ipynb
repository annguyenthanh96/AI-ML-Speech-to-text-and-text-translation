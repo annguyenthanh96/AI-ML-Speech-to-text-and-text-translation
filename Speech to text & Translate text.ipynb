{
 "cells": [
  {
   "cell_type": "code",
   "execution_count": 97,
   "id": "11366846",
   "metadata": {},
   "outputs": [],
   "source": [
    "from ibm_watson import SpeechToTextV1 \n",
    "import json\n",
    "from ibm_cloud_sdk_core.authenticators import IAMAuthenticator\n",
    "import moviepy.editor as mp\n",
    "from ibm_watson import LanguageTranslatorV3"
   ]
  },
  {
   "cell_type": "code",
   "execution_count": 101,
   "id": "a8fb83d8",
   "metadata": {},
   "outputs": [
    {
     "data": {
      "text/html": [
       "<div>\n",
       "<style scoped>\n",
       "    .dataframe tbody tr th:only-of-type {\n",
       "        vertical-align: middle;\n",
       "    }\n",
       "\n",
       "    .dataframe tbody tr th {\n",
       "        vertical-align: top;\n",
       "    }\n",
       "\n",
       "    .dataframe thead th {\n",
       "        text-align: right;\n",
       "    }\n",
       "</style>\n",
       "<table border=\"1\" class=\"dataframe\">\n",
       "  <thead>\n",
       "    <tr style=\"text-align: right;\">\n",
       "      <th></th>\n",
       "      <th>language</th>\n",
       "      <th>name</th>\n",
       "    </tr>\n",
       "  </thead>\n",
       "  <tbody>\n",
       "    <tr>\n",
       "      <th>0</th>\n",
       "      <td>af</td>\n",
       "      <td>Afrikaans</td>\n",
       "    </tr>\n",
       "    <tr>\n",
       "      <th>1</th>\n",
       "      <td>ar</td>\n",
       "      <td>Arabic</td>\n",
       "    </tr>\n",
       "    <tr>\n",
       "      <th>2</th>\n",
       "      <td>az</td>\n",
       "      <td>Azerbaijani</td>\n",
       "    </tr>\n",
       "    <tr>\n",
       "      <th>3</th>\n",
       "      <td>ba</td>\n",
       "      <td>Bashkir</td>\n",
       "    </tr>\n",
       "    <tr>\n",
       "      <th>4</th>\n",
       "      <td>be</td>\n",
       "      <td>Belarusian</td>\n",
       "    </tr>\n",
       "    <tr>\n",
       "      <th>...</th>\n",
       "      <td>...</td>\n",
       "      <td>...</td>\n",
       "    </tr>\n",
       "    <tr>\n",
       "      <th>71</th>\n",
       "      <td>uk</td>\n",
       "      <td>Ukrainian</td>\n",
       "    </tr>\n",
       "    <tr>\n",
       "      <th>72</th>\n",
       "      <td>ur</td>\n",
       "      <td>Urdu</td>\n",
       "    </tr>\n",
       "    <tr>\n",
       "      <th>73</th>\n",
       "      <td>vi</td>\n",
       "      <td>Vietnamese</td>\n",
       "    </tr>\n",
       "    <tr>\n",
       "      <th>74</th>\n",
       "      <td>zh</td>\n",
       "      <td>Simplified Chinese</td>\n",
       "    </tr>\n",
       "    <tr>\n",
       "      <th>75</th>\n",
       "      <td>zh-TW</td>\n",
       "      <td>Traditional Chinese</td>\n",
       "    </tr>\n",
       "  </tbody>\n",
       "</table>\n",
       "<p>76 rows × 2 columns</p>\n",
       "</div>"
      ],
      "text/plain": [
       "   language                 name\n",
       "0        af            Afrikaans\n",
       "1        ar               Arabic\n",
       "2        az          Azerbaijani\n",
       "3        ba              Bashkir\n",
       "4        be           Belarusian\n",
       "..      ...                  ...\n",
       "71       uk            Ukrainian\n",
       "72       ur                 Urdu\n",
       "73       vi           Vietnamese\n",
       "74       zh   Simplified Chinese\n",
       "75    zh-TW  Traditional Chinese\n",
       "\n",
       "[76 rows x 2 columns]"
      ]
     },
     "execution_count": 101,
     "metadata": {},
     "output_type": "execute_result"
    }
   ],
   "source": [
    "#View languages\n",
    "from pandas import json_normalize\n",
    "\n",
    "json_normalize(language_translator.list_identifiable_languages().get_result(), \"languages\")"
   ]
  },
  {
   "cell_type": "code",
   "execution_count": 207,
   "id": "d008eb5b",
   "metadata": {},
   "outputs": [],
   "source": [
    "#URL and disable auto verification for IBM\n",
    "url_s2t = \"https://api.eu-gb.speech-to-text.watson.cloud.ibm.com/instances/87d476cf-f462-4964-9a79-95e2b5740b72\""
   ]
  },
  {
   "cell_type": "code",
   "execution_count": 64,
   "id": "794d26c2",
   "metadata": {},
   "outputs": [],
   "source": [
    "#API\n",
    "iam_apikey_s2t = \"GrecV1W9_b2luj6AqIYn5j5D1WUkUXijZWPt-bxZlTCY\""
   ]
  },
  {
   "cell_type": "code",
   "execution_count": 206,
   "id": "664a54f2",
   "metadata": {},
   "outputs": [
    {
     "data": {
      "text/plain": [
       "<ibm_watson.speech_to_text_v1_adapter.SpeechToTextV1Adapter at 0x243e36e7f10>"
      ]
     },
     "execution_count": 206,
     "metadata": {},
     "output_type": "execute_result"
    }
   ],
   "source": [
    "authenticator = IAMAuthenticator(iam_apikey_s2t)\n",
    "s2t = SpeechToTextV1(authenticator=authenticator)\n",
    "s2t.set_service_url(url_s2t)\n",
    "s2t.set_disable_ssl_verification(True)\n",
    "s2t"
   ]
  },
  {
   "cell_type": "code",
   "execution_count": null,
   "id": "f6bd9dbd",
   "metadata": {},
   "outputs": [],
   "source": [
    "\n",
    "#Download file https://www.youtube.com/watch?v=Y6bbMQXQ180\n",
    "!wget -O PolynomialRegressionandPipelines.mp3 https://www.youtube.com/watch?v=Y6bbMQXQ180\n"
   ]
  },
  {
   "cell_type": "code",
   "execution_count": 209,
   "id": "e8310340",
   "metadata": {},
   "outputs": [],
   "source": [
    "#Convert mp3 and read file\n",
    "filename='Downloads\\SecretOfSuccess.mp3'"
   ]
  },
  {
   "cell_type": "code",
   "execution_count": 194,
   "id": "3564d6e8",
   "metadata": {},
   "outputs": [
    {
     "data": {
      "text/plain": [
       "{'result_index': 0,\n",
       " 'results': [{'final': True,\n",
       "   'alternatives': [{'transcript': 'a two hour presentation I give the high school students cut down to three minutes it all started when they on a plane on my way to Ted seven years ago and in the seat next to you is a ',\n",
       "     'confidence': 0.88}]},\n",
       "  {'final': True,\n",
       "   'alternatives': [{'transcript': \"high school student teenager and she came from a really poor family and you wanted to make something of her life and she asked me a simple little question she said what leads to success and I felt really badly because I couldn't give her a good answer so I get off the plane to come to Ted I think Jeez I'm in the middle of a room the successful people so I don't ask them what helped them succeed and pass it on to kids so here we are seven years five hundred interviews later and I'm gonna tell you what really leads to success and makes testers tech and the first thing is passion Freeman Thomas says I'm driven by my passion does just do it for love they don't do it for money Carol Coletta says I would pay someone to do it I do the interesting thing is if you do it for love the money comes anyway \",\n",
       "     'confidence': 0.88}]},\n",
       "  {'final': True,\n",
       "   'alternatives': [{'transcript': \"work Rupert Murdoch said to me it's all hard work nothing comes easily but I have a lot of fun did he say find Rupert yes \",\n",
       "     'confidence': 0.85}]},\n",
       "  {'final': True,\n",
       "   'alternatives': [{'transcript': \"testers do have fun working and they work hard I figure they're not workaholics the work of frolics \",\n",
       "     'confidence': 0.75}]},\n",
       "  {'final': True,\n",
       "   'alternatives': [{'transcript': 'good ', 'confidence': 0.93}]},\n",
       "  {'final': True,\n",
       "   'alternatives': [{'transcript': \"now this garden says to be successful put your nose down something and get damn good at it there's no magic it's practice practice practice and its focus Norman Jewison said to me I think it all has to do with focusing yourself on one thing and push David Gallo says push yourself physically mentally you've got to push push push you gotta push to shyness and self doubt Goldie Hawn says I always had self doubt I wasn't good enough I wasn't smart enough I didn't think I'd make it \",\n",
       "     'confidence': 0.82}]},\n",
       "  {'final': True,\n",
       "   'alternatives': [{'transcript': \"no it's not always easy to push yourself and that's why they invented mother's \",\n",
       "     'confidence': 0.92}]},\n",
       "  {'final': True,\n",
       "   'alternatives': [{'transcript': 'twenty ', 'confidence': 0.55}]},\n",
       "  {'final': True,\n",
       "   'alternatives': [{'transcript': 'Frank Gehry said to me my mother pushed me ',\n",
       "     'confidence': 0.7}]},\n",
       "  {'final': True,\n",
       "   'alternatives': [{'transcript': 'service ', 'confidence': 0.17}]},\n",
       "  {'final': True,\n",
       "   'alternatives': [{'transcript': 'sure when Newman says it was a privilege to serve as a doctor ',\n",
       "     'confidence': 0.85}]},\n",
       "  {'final': True,\n",
       "   'alternatives': [{'transcript': \"now a lot of kids tell me they want to be millionaires and the first thing I say to them this okay we can't serve yourself you got to serve others something of value because that's the way people really get rich \",\n",
       "     'confidence': 0.87}]},\n",
       "  {'final': True,\n",
       "   'alternatives': [{'transcript': \"I. DS tester Bill Gates says I had an idea finally the first microcomputer software company I'd say it was a pretty good idea and there's no magic to creativity in coming up with ideas it's just doing some very simple things and I give lots of evidence persist \",\n",
       "     'confidence': 0.83}]},\n",
       "  {'final': True,\n",
       "   'alternatives': [{'transcript': 'Joe crisis persistence is the number one reason for our success you got to persist to failure you gotta persist through crap which of course means criticism rejection **** impression ',\n",
       "     'confidence': 0.8}]},\n",
       "  {'final': True,\n",
       "   'alternatives': [{'transcript': 'so the big yeah the answer to this question is simple pay four thousand boxing come today ',\n",
       "     'confidence': 0.75}]},\n",
       "  {'final': True,\n",
       "   'alternatives': [{'transcript': 'or failing that to the eight things and trust me these are the big things that lead to success ',\n",
       "     'confidence': 0.79}]}]}"
      ]
     },
     "execution_count": 194,
     "metadata": {},
     "output_type": "execute_result"
    }
   ],
   "source": [
    "#Get Speech to text\n",
    "with open(filename, mode=\"rb\")  as wav:\n",
    "    response = s2t.recognize(audio=wav, content_type='audio/mp3')\n",
    "response.result"
   ]
  },
  {
   "cell_type": "code",
   "execution_count": 195,
   "id": "57e30668",
   "metadata": {},
   "outputs": [
    {
     "name": "stdout",
     "output_type": "stream",
     "text": [
      "Transcribed Text: \n",
      " a two hour presentation I give the high school students cut down to three minutes it all started when they on a plane on my way to Ted seven years ago and in the seat next to you is a high school student teenager and she came from a really poor family and you wanted to make something of her life and she asked me a simple little question she said what leads to success and I felt really badly because I couldn't give her a good answer so I get off the plane to come to Ted I think Jeez I'm in the middle of a room the successful people so I don't ask them what helped them succeed and pass it on to kids so here we are seven years five hundred interviews later and I'm gonna tell you what really leads to success and makes testers tech and the first thing is passion Freeman Thomas says I'm driven by my passion does just do it for love they don't do it for money Carol Coletta says I would pay someone to do it I do the interesting thing is if you do it for love the money comes anyway work Rupert Murdoch said to me it's all hard work nothing comes easily but I have a lot of fun did he say find Rupert yes testers do have fun working and they work hard I figure they're not workaholics the work of frolics good now this garden says to be successful put your nose down something and get damn good at it there's no magic it's practice practice practice and its focus Norman Jewison said to me I think it all has to do with focusing yourself on one thing and push David Gallo says push yourself physically mentally you've got to push push push you gotta push to shyness and self doubt Goldie Hawn says I always had self doubt I wasn't good enough I wasn't smart enough I didn't think I'd make it no it's not always easy to push yourself and that's why they invented mother's twenty Frank Gehry said to me my mother pushed me service sure when Newman says it was a privilege to serve as a doctor now a lot of kids tell me they want to be millionaires and the first thing I say to them this okay we can't serve yourself you got to serve others something of value because that's the way people really get rich I. DS tester Bill Gates says I had an idea finally the first microcomputer software company I'd say it was a pretty good idea and there's no magic to creativity in coming up with ideas it's just doing some very simple things and I give lots of evidence persist Joe crisis persistence is the number one reason for our success you got to persist to failure you gotta persist through crap which of course means criticism rejection **** impression so the big yeah the answer to this question is simple pay four thousand boxing come today or failing that to the eight things and trust me these are the big things that lead to success \n"
     ]
    }
   ],
   "source": [
    "#View result in cleanner format \n",
    "recognized_text = \"Transcribed Text: \\n \"\n",
    "for i in range(len(response.result['results'])):\n",
    "    recognized_text += response.result['results'][i]['alternatives'][0]['transcript']\n",
    "print(recognized_text)"
   ]
  },
  {
   "cell_type": "code",
   "execution_count": 196,
   "id": "77d1b11d",
   "metadata": {},
   "outputs": [
    {
     "data": {
      "text/html": [
       "<div>\n",
       "<style scoped>\n",
       "    .dataframe tbody tr th:only-of-type {\n",
       "        vertical-align: middle;\n",
       "    }\n",
       "\n",
       "    .dataframe tbody tr th {\n",
       "        vertical-align: top;\n",
       "    }\n",
       "\n",
       "    .dataframe thead th {\n",
       "        text-align: right;\n",
       "    }\n",
       "</style>\n",
       "<table border=\"1\" class=\"dataframe\">\n",
       "  <thead>\n",
       "    <tr style=\"text-align: right;\">\n",
       "      <th></th>\n",
       "      <th>transcript</th>\n",
       "      <th>confidence</th>\n",
       "    </tr>\n",
       "  </thead>\n",
       "  <tbody>\n",
       "    <tr>\n",
       "      <th>0</th>\n",
       "      <td>a two hour presentation I give the high school...</td>\n",
       "      <td>0.88</td>\n",
       "    </tr>\n",
       "    <tr>\n",
       "      <th>1</th>\n",
       "      <td>high school student teenager and she came from...</td>\n",
       "      <td>0.88</td>\n",
       "    </tr>\n",
       "    <tr>\n",
       "      <th>2</th>\n",
       "      <td>work Rupert Murdoch said to me it's all hard w...</td>\n",
       "      <td>0.85</td>\n",
       "    </tr>\n",
       "    <tr>\n",
       "      <th>3</th>\n",
       "      <td>testers do have fun working and they work hard...</td>\n",
       "      <td>0.75</td>\n",
       "    </tr>\n",
       "    <tr>\n",
       "      <th>4</th>\n",
       "      <td>good</td>\n",
       "      <td>0.93</td>\n",
       "    </tr>\n",
       "    <tr>\n",
       "      <th>5</th>\n",
       "      <td>now this garden says to be successful put your...</td>\n",
       "      <td>0.82</td>\n",
       "    </tr>\n",
       "    <tr>\n",
       "      <th>6</th>\n",
       "      <td>no it's not always easy to push yourself and t...</td>\n",
       "      <td>0.92</td>\n",
       "    </tr>\n",
       "    <tr>\n",
       "      <th>7</th>\n",
       "      <td>twenty</td>\n",
       "      <td>0.55</td>\n",
       "    </tr>\n",
       "    <tr>\n",
       "      <th>8</th>\n",
       "      <td>Frank Gehry said to me my mother pushed me</td>\n",
       "      <td>0.70</td>\n",
       "    </tr>\n",
       "    <tr>\n",
       "      <th>9</th>\n",
       "      <td>service</td>\n",
       "      <td>0.17</td>\n",
       "    </tr>\n",
       "    <tr>\n",
       "      <th>10</th>\n",
       "      <td>sure when Newman says it was a privilege to se...</td>\n",
       "      <td>0.85</td>\n",
       "    </tr>\n",
       "    <tr>\n",
       "      <th>11</th>\n",
       "      <td>now a lot of kids tell me they want to be mill...</td>\n",
       "      <td>0.87</td>\n",
       "    </tr>\n",
       "    <tr>\n",
       "      <th>12</th>\n",
       "      <td>I. DS tester Bill Gates says I had an idea fin...</td>\n",
       "      <td>0.83</td>\n",
       "    </tr>\n",
       "    <tr>\n",
       "      <th>13</th>\n",
       "      <td>Joe crisis persistence is the number one reaso...</td>\n",
       "      <td>0.80</td>\n",
       "    </tr>\n",
       "    <tr>\n",
       "      <th>14</th>\n",
       "      <td>so the big yeah the answer to this question is...</td>\n",
       "      <td>0.75</td>\n",
       "    </tr>\n",
       "    <tr>\n",
       "      <th>15</th>\n",
       "      <td>or failing that to the eight things and trust ...</td>\n",
       "      <td>0.79</td>\n",
       "    </tr>\n",
       "  </tbody>\n",
       "</table>\n",
       "</div>"
      ],
      "text/plain": [
       "                                           transcript  confidence\n",
       "0   a two hour presentation I give the high school...        0.88\n",
       "1   high school student teenager and she came from...        0.88\n",
       "2   work Rupert Murdoch said to me it's all hard w...        0.85\n",
       "3   testers do have fun working and they work hard...        0.75\n",
       "4                                               good         0.93\n",
       "5   now this garden says to be successful put your...        0.82\n",
       "6   no it's not always easy to push yourself and t...        0.92\n",
       "7                                             twenty         0.55\n",
       "8         Frank Gehry said to me my mother pushed me         0.70\n",
       "9                                            service         0.17\n",
       "10  sure when Newman says it was a privilege to se...        0.85\n",
       "11  now a lot of kids tell me they want to be mill...        0.87\n",
       "12  I. DS tester Bill Gates says I had an idea fin...        0.83\n",
       "13  Joe crisis persistence is the number one reaso...        0.80\n",
       "14  so the big yeah the answer to this question is...        0.75\n",
       "15  or failing that to the eight things and trust ...        0.79"
      ]
     },
     "execution_count": 196,
     "metadata": {},
     "output_type": "execute_result"
    }
   ],
   "source": [
    "from pandas import json_normalize\n",
    "\n",
    "json_normalize(response.result['results'],\"alternatives\")"
   ]
  },
  {
   "cell_type": "code",
   "execution_count": 197,
   "id": "049985d8",
   "metadata": {},
   "outputs": [
    {
     "data": {
      "text/plain": [
       "<ibm_cloud_sdk_core.detailed_response.DetailedResponse at 0x243e2fb9210>"
      ]
     },
     "execution_count": 197,
     "metadata": {},
     "output_type": "execute_result"
    }
   ],
   "source": [
    "response"
   ]
  },
  {
   "cell_type": "code",
   "execution_count": 198,
   "id": "45295b00",
   "metadata": {},
   "outputs": [],
   "source": [
    "url_lt='https://api.eu-gb.language-translator.watson.cloud.ibm.com/instances/9f6463e1-6ce8-4ef7-a919-3731ceac1acc'"
   ]
  },
  {
   "cell_type": "code",
   "execution_count": 199,
   "id": "c41d26a0",
   "metadata": {},
   "outputs": [],
   "source": [
    "apikey_lt='dpbBpLDx5uQVhUaWM5INbkwkhJDoCUgQa9dCQiB7RbiD'"
   ]
  },
  {
   "cell_type": "code",
   "execution_count": 200,
   "id": "1fe8d8c9",
   "metadata": {},
   "outputs": [],
   "source": [
    "anguage_translator = LanguageTranslatorV3(\n",
    "    version='{version}',\n",
    "    authenticator=authenticator\n",
    ")\n",
    "version_lt='2022-02-19'"
   ]
  },
  {
   "cell_type": "code",
   "execution_count": 201,
   "id": "95f8a129",
   "metadata": {},
   "outputs": [
    {
     "data": {
      "text/plain": [
       "<ibm_watson.language_translator_v3.LanguageTranslatorV3 at 0x243e3775570>"
      ]
     },
     "execution_count": 201,
     "metadata": {},
     "output_type": "execute_result"
    }
   ],
   "source": [
    "authenticator = IAMAuthenticator(apikey_lt)\n",
    "language_translator = LanguageTranslatorV3(version=version_lt,authenticator=authenticator)\n",
    "language_translator.set_service_url(url_lt)\n",
    "language_translator"
   ]
  },
  {
   "cell_type": "code",
   "execution_count": 202,
   "id": "4afa16d2",
   "metadata": {},
   "outputs": [
    {
     "data": {
      "text/plain": [
       "<ibm_cloud_sdk_core.detailed_response.DetailedResponse at 0x243e3774160>"
      ]
     },
     "execution_count": 202,
     "metadata": {},
     "output_type": "execute_result"
    }
   ],
   "source": [
    "translation_response = language_translator.translate(\\\n",
    "    text=recognized_text, model_id='en-vi')\n",
    "translation_response"
   ]
  },
  {
   "cell_type": "code",
   "execution_count": 203,
   "id": "341838c2",
   "metadata": {},
   "outputs": [
    {
     "data": {
      "text/plain": [
       "{'translations': [{'translation': 'Văn bản sao chép: một bài thuyết trình hai giờ tôi cho học sinh trung học bị cắt giảm xuống còn ba phút, tất cả bắt đầu khi họ lên máy bay trên đường đến Ted 7 năm trước và ngồi cạnh bạn là một học sinh trung học và cô ấy đến từ một gia đình trung học và cô ấy đã hỏi tôi một câu hỏi nhỏ bé mà cô ấy đã nói những gì dẫn đến thành công và tôi cảm thấy rất tệ vì tôi không thể cho cô ấy một câu trả lời tốt vì tôi không thể cho cô ấy một câu trả lời tốt để tôi rời khỏi máy bay để đến với Ted Tôi nghĩ rằng tôi đang ở giữa một căn phòng những người thành công nên tôi không hỏi họ điều gì đã giúp họ thành công và chuyển nó cho trẻ em. Năm trăm cuộc phỏng vấn sau đó và tôi sẽ nói cho bạn những gì thực sự dẫn đến thành công và làm cho những người làm thử nghiệm công nghệ và điều đầu tiên là niềm đam mê Freeman Thomas nói rằng tôi được thúc đẩy bởi niềm đam mê của tôi, chỉ làm điều đó vì tình yêu của tôi, Carol Coletta nói rằng tôi sẽ trả tiền cho một ai đó để làm điều thú vị là nếu bạn làm điều đó vì tình yêu thì làm việc Rupert Murdoch đã nói với tôi rằng đó là điều không có gì là không dễ dàng nhưng tôi có rất nhiều niềm vui khi nói rằng Rupert yes tester có làm việc vui vẻ và họ làm việc chăm chỉ tôi nghĩ họ không phải là những người làm việc tốt. Tôi nghĩ tất cả phải tập trung vào việc thực hành và thúc đẩy David Gallo nói với tôi rằng tất cả phải tập trung vào một thứ và nhấn mạnh David Gallo: về mặt thể chất, về mặt thể chất, về mặt thể chất, bạn phải thúc đẩy bạn đẩy mạnh vào sự nhút nhát và tự nghi ngờ Goldie Hawn nói rằng tôi không đủ thông minh, tôi không đủ thông minh để tự đẩy mình và đó là lý do họ phát minh ra 20 Frank Gehry của mẹ tôi đã nói với tôi rằng mẹ tôi đã đẩy tôi vào dịch vụ chắc chắn khi Newman nói rằng đó là một đặc ân được phục vụ như là một Bác sĩ bây giờ nói với tôi rằng họ muốn trở thành triệu phú và điều đầu tiên tôi nói với họ điều này ok chúng ta không thể phục vụ cho bản thân bạn được phục vụ cho những người khác vì đó là cách mà mọi người thực sự giàu có I. DS Tester Bill Gates nói rằng cuối cùng tôi đã có một ý tưởng về phần mềm máy tính đầu tiên mà tôi nói đó là một ý tưởng khá hay và không có phép thuật để sáng tạo trong việc đưa ra những ý tưởng mà nó chỉ làm một vài điều đơn giản và tôi đưa ra nhiều bằng chứng cho thấy sự kiên trì của Joe khủng hoảng là lý do cho sự thành công của chúng tôi. Những lời chỉ trích từ chối ** cho nên câu trả lời cho câu hỏi này là đơn giản trả 4 ngàn quyền Anh đến hôm nay hoặc thất bại trong 8 điều và tin tôi đây là những điều quan trọng dẫn đến thành công '}],\n",
       " 'word_count': 559,\n",
       " 'character_count': 2757}"
      ]
     },
     "execution_count": 203,
     "metadata": {},
     "output_type": "execute_result"
    }
   ],
   "source": [
    "translation=translation_response.get_result()\n",
    "translation"
   ]
  },
  {
   "cell_type": "code",
   "execution_count": 204,
   "id": "5bc0d48c",
   "metadata": {},
   "outputs": [
    {
     "data": {
      "text/plain": [
       "'Văn bản sao chép: một bài thuyết trình hai giờ tôi cho học sinh trung học bị cắt giảm xuống còn ba phút, tất cả bắt đầu khi họ lên máy bay trên đường đến Ted 7 năm trước và ngồi cạnh bạn là một học sinh trung học và cô ấy đến từ một gia đình trung học và cô ấy đã hỏi tôi một câu hỏi nhỏ bé mà cô ấy đã nói những gì dẫn đến thành công và tôi cảm thấy rất tệ vì tôi không thể cho cô ấy một câu trả lời tốt vì tôi không thể cho cô ấy một câu trả lời tốt để tôi rời khỏi máy bay để đến với Ted Tôi nghĩ rằng tôi đang ở giữa một căn phòng những người thành công nên tôi không hỏi họ điều gì đã giúp họ thành công và chuyển nó cho trẻ em. Năm trăm cuộc phỏng vấn sau đó và tôi sẽ nói cho bạn những gì thực sự dẫn đến thành công và làm cho những người làm thử nghiệm công nghệ và điều đầu tiên là niềm đam mê Freeman Thomas nói rằng tôi được thúc đẩy bởi niềm đam mê của tôi, chỉ làm điều đó vì tình yêu của tôi, Carol Coletta nói rằng tôi sẽ trả tiền cho một ai đó để làm điều thú vị là nếu bạn làm điều đó vì tình yêu thì làm việc Rupert Murdoch đã nói với tôi rằng đó là điều không có gì là không dễ dàng nhưng tôi có rất nhiều niềm vui khi nói rằng Rupert yes tester có làm việc vui vẻ và họ làm việc chăm chỉ tôi nghĩ họ không phải là những người làm việc tốt. Tôi nghĩ tất cả phải tập trung vào việc thực hành và thúc đẩy David Gallo nói với tôi rằng tất cả phải tập trung vào một thứ và nhấn mạnh David Gallo: về mặt thể chất, về mặt thể chất, về mặt thể chất, bạn phải thúc đẩy bạn đẩy mạnh vào sự nhút nhát và tự nghi ngờ Goldie Hawn nói rằng tôi không đủ thông minh, tôi không đủ thông minh để tự đẩy mình và đó là lý do họ phát minh ra 20 Frank Gehry của mẹ tôi đã nói với tôi rằng mẹ tôi đã đẩy tôi vào dịch vụ chắc chắn khi Newman nói rằng đó là một đặc ân được phục vụ như là một Bác sĩ bây giờ nói với tôi rằng họ muốn trở thành triệu phú và điều đầu tiên tôi nói với họ điều này ok chúng ta không thể phục vụ cho bản thân bạn được phục vụ cho những người khác vì đó là cách mà mọi người thực sự giàu có I. DS Tester Bill Gates nói rằng cuối cùng tôi đã có một ý tưởng về phần mềm máy tính đầu tiên mà tôi nói đó là một ý tưởng khá hay và không có phép thuật để sáng tạo trong việc đưa ra những ý tưởng mà nó chỉ làm một vài điều đơn giản và tôi đưa ra nhiều bằng chứng cho thấy sự kiên trì của Joe khủng hoảng là lý do cho sự thành công của chúng tôi. Những lời chỉ trích từ chối ** cho nên câu trả lời cho câu hỏi này là đơn giản trả 4 ngàn quyền Anh đến hôm nay hoặc thất bại trong 8 điều và tin tôi đây là những điều quan trọng dẫn đến thành công '"
      ]
     },
     "execution_count": 204,
     "metadata": {},
     "output_type": "execute_result"
    }
   ],
   "source": [
    "Vietnamese_translation =translation['translations'][0]['translation']\n",
    "Vietnamese_translation \n"
   ]
  },
  {
   "cell_type": "code",
   "execution_count": 205,
   "id": "3776bf5b",
   "metadata": {},
   "outputs": [
    {
     "data": {
      "text/plain": [
       "'The copy text: a two-hour lecture I gave high school students down to three minutes, all of which started when they got on the plane on the way to Ted seven years ago and sat next to you was a high school student and she came from a high school family and she asked me a little question that she said, and I felt really bad because I could not give her a good answer because I could not give her a good answer so that I could not give her a good answer to Ted I thought I was in the middle of a room of successful people, so I didn &apos; t ask them what helped them succeed and turn it over to children. Five hundred interviews later and I &apos; m going to tell you what really leads to success, and the first thing that &apos; s going to be the experience of technology and the first thing is that the passion for Freeman Thomas says that I &apos; m motivated by my passion, just doing it for my love, Carol Coletta says that I &apos; m going to pay someone to do it for love, because love works Rupert Murdoch told me that it &apos; s not easy, but I have a lot of fun to say that Rupert yes tester is having fun and they work hard, I think they &apos; re not good at work. I think it all has to be focused on practicing and pushing David Gallo to tell me that all of you have to focus on one thing and to emphasize David Gallo: physically, physically, physically, you have to push you to push into the timidity and doubt that Goldie Hawn says that I &apos; m not smart enough, I &apos; m not smart enough to push myself and that &apos; s why they invented 20 Frank Gehry of my mother told me that my mother pushed me into a service that was sure that it was a privilege to serve as a doctor now telling me that they wanted to be a millionaire and the first thing I told them is that we can &apos; t serve it. You &apos; ve been served to others because it &apos; s the way people are really rich. I. DS Tester Bill Gates says that I finally got an idea of the first computer software that I said it was a pretty good idea and not magic to create ideas that it just did a few simple things, and I gave a lot of evidence that the persistence of Joe crisis was the reason for our success. The criticism refused to ** so the answer to this question was simply to pay four thousand boxing to today or fail in eight things and believe me these are important things that lead to success. '"
      ]
     },
     "execution_count": 205,
     "metadata": {},
     "output_type": "execute_result"
    }
   ],
   "source": [
    "#Translate back to English\n",
    "translation_new = language_translator.translate(text=Vietnamese_translation ,model_id='vi-en').get_result()\n",
    "translation_eng=translation_new['translations'][0]['translation']\n",
    "translation_eng"
   ]
  },
  {
   "cell_type": "code",
   "execution_count": 210,
   "id": "e3dd6980",
   "metadata": {},
   "outputs": [
    {
     "data": {
      "text/plain": [
       "\"Le texte de la copie: une conférence de deux heures que j'ai donné aux élèves du secondaire jusqu'à trois minutes, toutes ont commencé quand ils sont arrivés à Ted il y a sept ans et s'étaient assis à côté d'une lycéen et elle m'a posé une petite question qu'elle a dit, et je me suis sentie vraiment mal parce que je ne pouvais pas lui donner une bonne réponse, parce que je ne pouvais pas lui donner une bonne réponse, de sorte que je ne pouvais pas lui donner une bonne réponse à Ted Je pensais que j'étais au milieu d'une chambre de gens qui ont réussi, alors je ne leur ai pas demandé ce qui les a aidés à réussir et à les remettre aux enfants. Cinq cents entrevues plus tard et je vais vous dire ce qui mène vraiment au succès, et la première chose qui va être l'expérience de la technologie et la première chose, c'est que la passion pour Freeman Thomas dit que je suis motivé par ma passion, je le fais pour mon amour, Carol Coletta dit que je vais payer quelqu'un pour le faire pour l'amour, parce que les œuvres d'amour Rupert Murdoch m'a dit que ce n'est pas facile, mais j'ai beaucoup de plaisir à dire que le testeur de Rupert oui a du plaisir et qu'ils travaillent dur, je pense qu'ils ne sont pas bons au travail. Je pense que tout doit être centré sur la pratique et pousser David Gallo à me dire que vous devez vous concentrer sur une chose et insister sur David Gallo: physiquement, physiquement, physiquement, vous devez vous pousser à pousser dans la timidité et le doute que Goldie Hawn dit que je ne suis pas assez intelligent, je ne suis pas assez intelligent pour me pousser et que c'est pourquoi ils ont inventé 20 Frank Gehry de ma mère m'a dit que ma mère m'a poussé dans un service qui était sûr que c'était un privilège de servir en tant que médecin maintenant me disant qu'ils voulaient être millionnaire et la première chose que je leur ai dit, c'est que nous ne pouvons pas le servir. Vous avez été servi à d'autres parce que c'est la façon dont les gens sont vraiment riches. I. DS Tester Bill Gates dit que j'ai enfin eu une idée du premier logiciel informatique que j'ai dit que c'était une assez bonne idée et pas de magie pour créer des idées qu'il faisait juste quelques choses simples, et j'ai donné beaucoup de preuves que la persistance de la crise de Joe était la raison de notre succès. La critique a refusé à ** donc la réponse à cette question était simplement de payer quatre mille boxe à aujourd'hui ou d'échouer en huit choses et croyez-moi, ce sont des choses importantes qui mènent au succès. \""
      ]
     },
     "execution_count": 210,
     "metadata": {},
     "output_type": "execute_result"
    }
   ],
   "source": [
    "#Translate to French\n",
    "French_translation=language_translator.translate(\n",
    "    text=translation_eng , model_id='en-fr').get_result()\n",
    "\n",
    "French_translation['translations'][0]['translation']"
   ]
  },
  {
   "cell_type": "code",
   "execution_count": null,
   "id": "1284281b",
   "metadata": {},
   "outputs": [],
   "source": []
  }
 ],
 "metadata": {
  "kernelspec": {
   "display_name": "Python 3 (ipykernel)",
   "language": "python",
   "name": "python3"
  },
  "language_info": {
   "codemirror_mode": {
    "name": "ipython",
    "version": 3
   },
   "file_extension": ".py",
   "mimetype": "text/x-python",
   "name": "python",
   "nbconvert_exporter": "python",
   "pygments_lexer": "ipython3",
   "version": "3.10.2"
  }
 },
 "nbformat": 4,
 "nbformat_minor": 5
}
